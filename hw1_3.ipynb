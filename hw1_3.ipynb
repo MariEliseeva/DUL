{
  "nbformat": 4,
  "nbformat_minor": 0,
  "metadata": {
    "kernelspec": {
      "name": "python3",
      "display_name": "Python 3"
    },
    "language_info": {
      "codemirror_mode": {
        "name": "ipython",
        "version": 3
      },
      "file_extension": ".py",
      "mimetype": "text/x-python",
      "name": "python",
      "nbconvert_exporter": "python",
      "pygments_lexer": "ipython3",
      "version": "3.7.4"
    },
    "stem_cell": {
      "cell_type": "raw",
      "metadata": {
        "pycharm": {
          "metadata": false
        }
      },
      "source": ""
    },
    "colab": {
      "name": "hw01_3.ipynb",
      "provenance": [],
      "collapsed_sections": []
    },
    "accelerator": "GPU",
    "widgets": {
      "application/vnd.jupyter.widget-state+json": {
        "1c2c44ecf7a647218d3e1ea57b1a872d": {
          "model_module": "@jupyter-widgets/controls",
          "model_name": "HBoxModel",
          "state": {
            "_view_name": "HBoxView",
            "_dom_classes": [],
            "_model_name": "HBoxModel",
            "_view_module": "@jupyter-widgets/controls",
            "_model_module_version": "1.5.0",
            "_view_count": null,
            "_view_module_version": "1.5.0",
            "box_style": "",
            "layout": "IPY_MODEL_b8c3d8f89a5143209ed090859e01b283",
            "_model_module": "@jupyter-widgets/controls",
            "children": [
              "IPY_MODEL_2ce431c539f04e4089d6f13a3525df54",
              "IPY_MODEL_09e2edeba70e4f86a86df6cdcdae3dda"
            ]
          }
        },
        "b86cb351831540b7a0b0ef85044ba6ac": {
          "model_module": "@jupyter-widgets/controls",
          "model_name": "HBoxModel",
          "state": {
            "_view_name": "HBoxView",
            "_dom_classes": [],
            "_model_name": "HBoxModel",
            "_view_module": "@jupyter-widgets/controls",
            "_model_module_version": "1.5.0",
            "_view_count": null,
            "_view_module_version": "1.5.0",
            "box_style": "",
            "layout": "IPY_MODEL_0703d9f3ee1d4d519c6ff8d93ffc6f3f",
            "_model_module": "@jupyter-widgets/controls",
            "children": [
              "IPY_MODEL_cb0ce44f8faf43b487890f13235873fd",
              "IPY_MODEL_138857dcbf8d43d0acef1c2238029836"
            ]
          }
        }
      }
    }
  },
  "cells": [
    {
      "cell_type": "markdown",
      "metadata": {
        "pycharm": {
          "metadata": false
        },
        "id": "8UnWdAlN9LXc",
        "colab_type": "text"
      },
      "source": [
        "# HW01"
      ]
    },
    {
      "cell_type": "markdown",
      "metadata": {
        "pycharm": {
          "metadata": false
        },
        "id": "kRH0Vn6b9LXg",
        "colab_type": "text"
      },
      "source": [
        "# 3 High-dimensional data"
      ]
    },
    {
      "cell_type": "code",
      "metadata": {
        "id": "rs_BUifn9LXj",
        "colab_type": "code",
        "colab": {}
      },
      "source": [
        "from sklearn.model_selection import train_test_split\n",
        "import numpy as np\n",
        "import pickle\n",
        "from matplotlib import pyplot as plt\n",
        "\n",
        "import torch\n",
        "from torch.nn.modules import loss\n",
        "from torch import optim\n",
        "import torch.nn as nn\n",
        "import torch.nn.functional as F\n",
        "from torch.utils.data.dataset import Dataset\n",
        "\n",
        "import torch.utils.data as data\n",
        "from tqdm.auto import tqdm"
      ],
      "execution_count": 0,
      "outputs": []
    },
    {
      "cell_type": "code",
      "metadata": {
        "id": "wqUmTbJBHt1s",
        "colab_type": "code",
        "colab": {}
      },
      "source": [
        "torch.manual_seed(0)\n",
        "DEVICE = torch.device(\"cuda\")"
      ],
      "execution_count": 0,
      "outputs": []
    },
    {
      "cell_type": "code",
      "metadata": {
        "id": "TqecLx6z0x7a",
        "colab_type": "code",
        "colab": {
          "base_uri": "https://localhost:8080/",
          "height": 71
        },
        "outputId": "84b691f2-3636-4564-b74d-c3e2c6b971ac"
      },
      "source": [
        "from google.colab import drive\n",
        "drive.mount('/content/drive')"
      ],
      "execution_count": 8,
      "outputs": [
        {
          "output_type": "stream",
          "text": [
            "Mounted at /content/drive\n",
            "Drive already mounted at /content/drive; to attempt to forcibly remount, call drive.mount(\"/content/drive\", force_remount=True).\n"
          ],
          "name": "stdout"
        }
      ]
    },
    {
      "cell_type": "code",
      "metadata": {
        "id": "cG1weTtc9LXq",
        "colab_type": "code",
        "colab": {}
      },
      "source": [
        "class MaskedConv2d(nn.Conv2d):\n",
        "    def __init__(self, mask_type, in_channels, out_channels, kernel_size, stride, padding):\n",
        "        super(MaskedConv2d, self).__init__(in_channels, out_channels, kernel_size, stride, padding)\n",
        "        self.mask = torch.ones(self.weight.shape).to(DEVICE)\n",
        "        self.mask[:, :, self.weight.shape[2] // 2, self.weight.shape[3] // 2 + (mask_type == 'B'):] = 0\n",
        "        self.mask[:, :, self.weight.shape[2] // 2 + 1:] = 0\n",
        "\n",
        "    def forward(self, input):\n",
        "        self.weight.data *= self.mask\n",
        "        return super(MaskedConv2d, self).forward(input)"
      ],
      "execution_count": 0,
      "outputs": []
    },
    {
      "cell_type": "code",
      "metadata": {
        "id": "wNd2WLXz9LXw",
        "colab_type": "code",
        "colab": {}
      },
      "source": [
        "class MaskResBlock(nn.Module):\n",
        "    def __init__(self):\n",
        "        super(MaskResBlock, self).__init__()\n",
        "\n",
        "        self.layers = nn.Sequential(\n",
        "            nn.ReLU(),\n",
        "            nn.Conv2d(64, 32, 1),\n",
        "            nn.BatchNorm2d(32),\n",
        "            nn.ReLU(),\n",
        "            MaskedConv2d('B', 32, 32, 3, 1, 1),\n",
        "            nn.BatchNorm2d(32),\n",
        "            nn.ReLU(),\n",
        "            nn.Conv2d(32, 64, 1),\n",
        "            nn.BatchNorm2d(64)\n",
        "        )\n",
        "\n",
        "    def forward(self, input):\n",
        "        return self.layers(input) + input"
      ],
      "execution_count": 0,
      "outputs": []
    },
    {
      "cell_type": "code",
      "metadata": {
        "id": "ETekqwuy9LX0",
        "colab_type": "code",
        "colab": {}
      },
      "source": [
        "class PixelCNN(nn.Module):\n",
        "    def __init__(self):\n",
        "        super(PixelCNN, self).__init__()\n",
        "\n",
        "        self.layers = nn.Sequential(\n",
        "            MaskedConv2d('A', 3, 2 * 32, 7, 1, 3),\n",
        "            MaskResBlock(), MaskResBlock(), MaskResBlock(), MaskResBlock(), MaskResBlock(), MaskResBlock(),\n",
        "            MaskResBlock(), MaskResBlock(), MaskResBlock(), MaskResBlock(), MaskResBlock(), MaskResBlock(),\n",
        "            nn.ReLU(),\n",
        "            nn.Conv2d(2 * 32, 2 * 32, 1),\n",
        "            nn.BatchNorm2d(2 * 32),\n",
        "            nn.ReLU(),\n",
        "            nn.Conv2d(2 * 32, 3 * 4, 1)\n",
        "        )\n",
        "\n",
        "    def forward(self, input):\n",
        "        output = self.layers(input.float())\n",
        "        output = output.reshape(input.shape[0], input.shape[1], 4, input.shape[2], input.shape[3])\n",
        "        output = output.permute(0, 1, 3, 4, 2)\n",
        "        return output"
      ],
      "execution_count": 0,
      "outputs": []
    },
    {
      "cell_type": "code",
      "metadata": {
        "id": "j8bK3v-J9LX4",
        "colab_type": "code",
        "colab": {}
      },
      "source": [
        "def Loss(output, input):\n",
        "  output = F.softmax(output, dim=-1)\n",
        "  input = F.one_hot(input, 4).float()\n",
        "  output = (output * input).sum(dim=-1)\n",
        "  loss = -torch.log(output + 1e-9)\n",
        "  return loss.mean()"
      ],
      "execution_count": 0,
      "outputs": []
    },
    {
      "cell_type": "code",
      "metadata": {
        "id": "fPu63nsV9LYE",
        "colab_type": "code",
        "colab": {}
      },
      "source": [
        "def train(model, loss_function, optimizer, epochs):\n",
        "    losses_train = []\n",
        "    losses_val = []\n",
        "    for i in tqdm(range(epochs)):\n",
        "        losses = []\n",
        "        model.train()\n",
        "        for batch in train_loader:\n",
        "            batch = batch.to(DEVICE)\n",
        "            optimizer.zero_grad()\n",
        "            output = model(batch)\n",
        "            loss = loss_function(output, batch)\n",
        "            losses.append(loss.item())\n",
        "            loss.backward()\n",
        "            optimizer.step()\n",
        "        losses_train.append(np.array(losses).mean())\n",
        "\n",
        "        losses = []\n",
        "        model.eval()\n",
        "        with torch.no_grad():\n",
        "            for batch in val_loader:\n",
        "                batch = batch.to(DEVICE)\n",
        "                output = model(batch)\n",
        "                loss = loss_function(output, batch)\n",
        "                losses.append(loss.item())\n",
        "        losses_val.append(np.array(losses).mean())\n",
        "\n",
        "        print(\"Epoch \" + str(i))\n",
        "    return losses_train, losses_val"
      ],
      "execution_count": 0,
      "outputs": []
    },
    {
      "cell_type": "code",
      "metadata": {
        "id": "0mGz9RQ_1MgF",
        "colab_type": "code",
        "colab": {}
      },
      "source": [
        "with open('drive/My Drive/mnist-hw1.pkl', 'rb') as dataset_file:\n",
        "    dataset = pickle.load(dataset_file)\n",
        "\n",
        "x_train = dataset['train']\n",
        "x_val = dataset['test']"
      ],
      "execution_count": 0,
      "outputs": []
    },
    {
      "cell_type": "code",
      "metadata": {
        "id": "XZ3TYUZg9LYJ",
        "colab_type": "code",
        "colab": {}
      },
      "source": [
        "batch_size = 128\n",
        "\n",
        "x_train = torch.LongTensor(x_train)\n",
        "x_val = torch.LongTensor(x_val)\n",
        "x_train = x_train.permute(0, 3, 1, 2)\n",
        "x_val = x_val.permute(0, 3, 1, 2)\n",
        "\n",
        "train_loader = data.DataLoader(dataset=x_train, batch_size=batch_size, shuffle=True)\n",
        "val_loader = data.DataLoader(dataset=x_val, batch_size=batch_size, shuffle=False)"
      ],
      "execution_count": 0,
      "outputs": []
    },
    {
      "cell_type": "code",
      "metadata": {
        "id": "laH2jQM60MtA",
        "colab_type": "code",
        "colab": {}
      },
      "source": [
        "def plot_losses(losses_train, losses_val):\n",
        "    plt.plot(range(epochs), losses_train, label=\"train\")\n",
        "    plt.plot(range(epochs), losses_val, label=\"val\")\n",
        "    plt.legend()\n",
        "    plt.show()"
      ],
      "execution_count": 0,
      "outputs": []
    },
    {
      "cell_type": "code",
      "metadata": {
        "id": "dD4jJv6sG-KT",
        "colab_type": "code",
        "colab": {}
      },
      "source": [
        "def sample_images(model):\n",
        "    samples = np.zeros((100, 28, 28, 3), dtype=np.uint8)\n",
        "    with torch.no_grad():\n",
        "        for y in tqdm(range(28)):\n",
        "            for x in range(28):\n",
        "                for c in range(3):\n",
        "                    input = collate_fn(samples).to(DEVICE)\n",
        "                    output = model(input)\n",
        "                    output = F.softmax(output, dim=4).cpu().numpy()\n",
        "                    for i in range(100):\n",
        "                        samples[i, y, x, c] = np.random.choice(4, p=output[i, c, y, x])\n",
        "    samples *= 85\n",
        "    \n",
        "    n = int(np.ceil(np.sqrt(100)))\n",
        "    f, axarr = plt.subplots(n, n)\n",
        "    f.set_figheight(15)\n",
        "    f.set_figwidth(15)\n",
        "    for i, img in enumerate(samples):\n",
        "        axarr[i // n, i % n].imshow(img)\n",
        "        axarr[i // n, i % n].axis('off')\n",
        "    plt.show()\n"
      ],
      "execution_count": 0,
      "outputs": []
    },
    {
      "cell_type": "code",
      "metadata": {
        "id": "nFL9Fl1-9LYv",
        "colab_type": "code",
        "colab": {}
      },
      "source": [
        "epochs = 50\n",
        "model = PixelCNN()\n",
        "model.to(DEVICE)\n",
        "optimizer = optim.Adam(model.parameters(), 0.001, weight_decay=0)"
      ],
      "execution_count": 0,
      "outputs": []
    },
    {
      "cell_type": "code",
      "metadata": {
        "id": "0mFEWJch1QO8",
        "colab_type": "code",
        "colab": {
          "base_uri": "https://localhost:8080/",
          "height": 867,
          "referenced_widgets": [
            "1c2c44ecf7a647218d3e1ea57b1a872d"
          ]
        },
        "outputId": "94f08b97-1cbd-4f32-ec38-af5603833726"
      },
      "source": [
        "train_losses, val_losses = train(model, Loss, optimizer, epochs)"
      ],
      "execution_count": 51,
      "outputs": [
        {
          "output_type": "display_data",
          "data": {
            "application/vnd.jupyter.widget-view+json": {
              "model_id": "1c2c44ecf7a647218d3e1ea57b1a872d",
              "version_minor": 0,
              "version_major": 2
            },
            "text/plain": [
              "HBox(children=(IntProgress(value=0, max=50), HTML(value='')))"
            ]
          },
          "metadata": {
            "tags": []
          }
        },
        {
          "output_type": "stream",
          "text": [
            "Epoch 0\n",
            "Epoch 1\n",
            "Epoch 2\n",
            "Epoch 3\n",
            "Epoch 4\n",
            "Epoch 5\n",
            "Epoch 6\n",
            "Epoch 7\n",
            "Epoch 8\n",
            "Epoch 9\n",
            "Epoch 10\n",
            "Epoch 11\n",
            "Epoch 12\n",
            "Epoch 13\n",
            "Epoch 14\n",
            "Epoch 15\n",
            "Epoch 16\n",
            "Epoch 17\n",
            "Epoch 18\n",
            "Epoch 19\n",
            "Epoch 20\n",
            "Epoch 21\n",
            "Epoch 22\n",
            "Epoch 23\n",
            "Epoch 24\n",
            "Epoch 25\n",
            "Epoch 26\n",
            "Epoch 27\n",
            "Epoch 28\n",
            "Epoch 29\n",
            "Epoch 30\n",
            "Epoch 31\n",
            "Epoch 32\n",
            "Epoch 33\n",
            "Epoch 34\n",
            "Epoch 35\n",
            "Epoch 36\n",
            "Epoch 37\n",
            "Epoch 38\n",
            "Epoch 39\n",
            "Epoch 40\n",
            "Epoch 41\n",
            "Epoch 42\n",
            "Epoch 43\n",
            "Epoch 44\n",
            "Epoch 45\n",
            "Epoch 46\n",
            "Epoch 47\n",
            "Epoch 48\n",
            "Epoch 49\n"
          ],
          "name": "stdout"
        }
      ]
    },
    {
      "cell_type": "code",
      "metadata": {
        "id": "_Pj38lYb0eBe",
        "colab_type": "code",
        "colab": {
          "base_uri": "https://localhost:8080/",
          "height": 269
        },
        "outputId": "41ee450e-7ed4-4474-945f-62723019e571"
      },
      "source": [
        "plot_losses(train_losses, val_losses)"
      ],
      "execution_count": 52,
      "outputs": [
        {
          "output_type": "display_data",
          "data": {
            "image/png": "[encoded data removed]",
            "text/plain": [
              "<Figure size 432x288 with 1 Axes>"
            ]
          },
          "metadata": {
            "tags": []
          }
        }
      ]
    },
    {
      "cell_type": "code",
      "metadata": {
        "id": "WnkjfxaG9LYx",
        "colab_type": "code",
        "colab": {
          "base_uri": "https://localhost:8080/",
          "height": 846,
          "referenced_widgets": [
            "b86cb351831540b7a0b0ef85044ba6ac"
          ]
        },
        "outputId": "5b4e30f0-3e8e-417c-fa93-02fcf9eb03e8"
      },
      "source": [
        "model.eval()\n",
        "sample_images(model)"
      ],
      "execution_count": 57,
      "outputs": [
        {
          "output_type": "display_data",
          "data": {
            "application/vnd.jupyter.widget-view+json": {
              "model_id": "b86cb351831540b7a0b0ef85044ba6ac",
              "version_minor": 0,
              "version_major": 2
            },
            "text/plain": [
              "HBox(children=(IntProgress(value=0, max=28), HTML(value='')))"
            ]
          },
          "metadata": {
            "tags": []
          }
        },
        {
          "output_type": "display_data",
          "data": {
            "image/png": "[encoded data removed]",
            "text/plain": [
              "<Figure size 1080x1080 with 100 Axes>"
            ]
          },
          "metadata": {
            "tags": []
          }
        }
      ]
    },
    {
      "cell_type": "code",
      "metadata": {
        "id": "LBuvmDbiXa2o",
        "colab_type": "code",
        "colab": {}
      },
      "source": [
        ""
      ],
      "execution_count": 0,
      "outputs": []
    },
    {
      "cell_type": "code",
      "metadata": {
        "id": "U6ppEl1PhqIq",
        "colab_type": "code",
        "colab": {}
      },
      "source": [
        ""
      ],
      "execution_count": 0,
      "outputs": []
    }
  ]
}