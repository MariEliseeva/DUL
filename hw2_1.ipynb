{
  "nbformat": 4,
  "nbformat_minor": 0,
  "metadata": {
    "colab": {
      "name": "hw2_1.ipynb",
      "provenance": [],
      "collapsed_sections": []
    },
    "kernelspec": {
      "name": "python3",
      "display_name": "Python 3"
    }
  },
  "cells": [
    {
      "cell_type": "code",
      "metadata": {
        "id": "kwEDsyrlmqlg",
        "colab_type": "code",
        "colab": {}
      },
      "source": [
        "import numpy as np\n",
        "import torch\n",
        "import random\n",
        "import os\n",
        "import matplotlib.pyplot as plt\n",
        "import matplotlib\n",
        "import torch \n",
        "import torch.nn as nn\n",
        "from tqdm.auto import tqdm\n",
        "from torch.distributions import Normal, MultivariateNormal, Uniform\n",
        "import torch.nn.functional as F\n",
        "from sklearn.model_selection import train_test_split\n",
        "from torch.autograd import Variable"
      ],
      "execution_count": 0,
      "outputs": []
    },
    {
      "cell_type": "code",
      "metadata": {
        "id": "yqMpriYF_EuH",
        "colab_type": "code",
        "colab": {}
      },
      "source": [
        "DEVICE = torch.device('cpu')"
      ],
      "execution_count": 0,
      "outputs": []
    },
    {
      "cell_type": "code",
      "metadata": {
        "id": "nUwr3VSb_E8u",
        "colab_type": "code",
        "colab": {}
      },
      "source": [
        "def sample_data():\n",
        "    count = 100000\n",
        "    rand = np.random.RandomState(0)\n",
        "    a = [[-1.5, 2.5]] + rand.randn(count // 3, 2) * 0.2\n",
        "    b = [[1.5, 2.5]] + rand.randn(count // 3, 2) * 0.2\n",
        "    c = np.c_[2 * np.cos(np.linspace(0, np.pi, count // 3)),\n",
        "    -np.sin(np.linspace(0, np.pi, count // 3))]\n",
        "\n",
        "    c += rand.randn(*c.shape) * 0.2\n",
        "    data_x = np.concatenate([a, b, c], axis=0)\n",
        "    data_y = np.array([0] * len(a) + [1] * len(b) + [2] * len(c))\n",
        "    perm = rand.permutation(len(data_x))\n",
        "    return data_x[perm], data_y[perm]"
      ],
      "execution_count": 0,
      "outputs": []
    },
    {
      "cell_type": "code",
      "metadata": {
        "id": "KordYYNi_FNq",
        "colab_type": "code",
        "colab": {}
      },
      "source": [
        "X, y = sample_data()\n",
        "X_train, X_test, y_train, y_test = train_test_split(X, y, test_size=0.2)\n",
        "X_train, X_val, y_train, y_val = train_test_split(X_train, y_train, test_size=0.125)\n",
        "train_loader = torch.utils.data.DataLoader(torch.from_numpy(X_train), batch_size=256, shuffle=True)\n",
        "val_loader = torch.utils.data.DataLoader(torch.from_numpy(X_val), batch_size=256)\n",
        "test_loader = torch.utils.data.DataLoader(torch.from_numpy(X_test), batch_size=256)\n",
        "    "
      ],
      "execution_count": 0,
      "outputs": []
    },
    {
      "cell_type": "code",
      "metadata": {
        "id": "ovF-EnqQ_tnN",
        "colab_type": "code",
        "colab": {}
      },
      "source": [
        "class Model(nn.Module):\n",
        "    def __init__(self, k):\n",
        "        super(Model, self).__init__()\n",
        "        self.k = k\n",
        "        self.pi1 = nn.Parameter(torch.randn(self.k, requires_grad=True))\n",
        "        self.softmax = nn.Softmax(dim=-1)\n",
        "        self.mu1 = nn.Parameter(torch.randn(self.k, requires_grad=True))\n",
        "        self.sigma1 = nn.Parameter(torch.randn(self.k, requires_grad=True))\n",
        "        self.pi2 = nn.Sequential(nn.Linear(1, k),\n",
        "                                nn.Softmax(dim=1))\n",
        "        self.mu2 = nn.Sequential(nn.Linear(1, k))\n",
        "        self.sigma2 = nn.Sequential(nn.Linear(1, k))\n",
        "\n",
        "    def forward(self,x):\n",
        "        x1, x2 = x[:, 0], x[:, 1]\n",
        "\n",
        "        pi1 = self.softmax(self.pi1)\n",
        "        mu1 = self.mu1\n",
        "        sigma1 = self.sigma1\n",
        "        pi2 = self.pi2(x1.view(-1, 1))\n",
        "        mu2 = self.mu2(x1.view(-1, 1))\n",
        "        sigma2 = self.sigma2(x1.view(-1, 1))\n",
        "\n",
        "        p1 = torch.zeros(x.shape[0]).to(DEVICE)\n",
        "        p2 = torch.zeros(x.shape[0]).to(DEVICE)\n",
        "\n",
        "        for i in range(self.k):\n",
        "            p1 += pi1[i] * Normal(mu1[i], torch.exp(sigma1[i])).log_prob(x1).exp()\n",
        "            p2 += pi2[:, i] * Normal(mu2[:, i], torch.exp(sigma2[:, i])).log_prob(x2).exp()\n",
        "\n",
        "        return p1 * p2\n",
        "\n",
        "    def latent(self, x):\n",
        "        x1, x2 = x[:, 0], x[:, 1]\n",
        "\n",
        "        pi1 = self.softmax(self.pi1)\n",
        "        mu1 = self.mu1\n",
        "        sigma1 = self.sigma1\n",
        "        pi2 = self.pi2(x1.view(-1, 1))\n",
        "        mu2 = self.mu2(x1.view(-1, 1))\n",
        "        sigma2 = self.sigma2(x1.view(-1, 1))\n",
        "\n",
        "        z1 = torch.zeros(x.shape[0]).to(DEVICE)\n",
        "        z2 = torch.zeros(x.shape[0]).to(DEVICE)\n",
        "\n",
        "        for i in range(self.k):\n",
        "            z1 += pi1[i] * Normal(mu1[i], torch.exp(sigma1[i])).cdf(x1)\n",
        "            z2 += pi2[:, i] * Normal(mu2[:, i], torch.exp(sigma2[:, i])).cdf(x2)\n",
        "        return z1, z2\n",
        "    \n",
        "    def sample(self, x):\n",
        "        z1, z2 = z[:, 0], z[:, 1]\n",
        "        x1 = torch.zeros(z.shape[0]).to(DEVICE)\n",
        "        pi1 = self.softmax(self.pi1)\n",
        "        mu1 = self.mu1\n",
        "        sigma1 = self.sigma1\n",
        "       \n",
        "        for i in range(z.shape[0]):\n",
        "            j = np.random.choice(self.k, p=pi1.detach().numpy())\n",
        "            x1[i] = Normal(mu1[j], torch.exp(sigma1[j])).icdf(z1[i])\n",
        "       \n",
        "        pi2 = self.pi2(x1.view(-1, 1))\n",
        "        mu2 = self.mu2(x1.view(-1, 1))\n",
        "        sigma2 = self.sigma2(x1.view(-1, 1))\n",
        "\n",
        "\n",
        "        x2 = torch.zeros(z.shape[0]).to(DEVICE)\n",
        "        for i in range(z.shape[0]):\n",
        "            j = np.random.choice(self.k, p=pi2[i].detach().numpy())\n",
        "            x2[i] = Normal(mu2[i, j], torch.exp(sigma2[i, j])).icdf(z2[i])\n",
        "\n",
        "        return x1, x2\n",
        "    \n",
        "    def __call__(self, x):\n",
        "        return self.forward(x)"
      ],
      "execution_count": 0,
      "outputs": []
    },
    {
      "cell_type": "code",
      "metadata": {
        "id": "MwR1sYaL7QFA",
        "colab_type": "code",
        "colab": {}
      },
      "source": [
        "def Loss(x):\n",
        "    return -torch.mean(torch.log(x)) / 2"
      ],
      "execution_count": 0,
      "outputs": []
    },
    {
      "cell_type": "code",
      "metadata": {
        "id": "6A54CNbC_ttw",
        "colab_type": "code",
        "colab": {}
      },
      "source": [
        "def train(model, train_loader, val_loader, test_loader, optimizer, loss_function, epoch_cnt, batch_size):\n",
        "    train_loss_values = []\n",
        "    val_loss_values = []\n",
        "            \n",
        "    for epoch in tnrange(epoch_cnt, desc='Epoch'):\n",
        "        for batch_data in train_loader:\n",
        "            x = batch_data.float().to(DEVICE)\n",
        "            optimizer.zero_grad()\n",
        "            output = model(x)\n",
        "            loss = loss_function(output)\n",
        "            train_loss_values.append(loss)\n",
        "            loss.backward()\n",
        "            optimizer.step()\n",
        "\n",
        "        loss_values = []\n",
        "        for batch_data in val_loader:\n",
        "            x = batch_data.float().to(DEVICE)\n",
        "            output = model(x)\n",
        "            loss = loss_function(output)\n",
        "            loss_values.append(loss.item())\n",
        "        val_loss_values.append(np.mean(np.array(loss_values)))\n",
        "        print(\"Epoch \" + str(epoch) + \" done\")\n",
        "\n",
        "    loss_values = []\n",
        "    for batch_data in test_loader:\n",
        "        x = batch_data.float().to(DEVICE)\n",
        "        output = model(x)\n",
        "        loss = loss_function(output)\n",
        "        loss_values.append(loss.item())\n",
        "\n",
        "    print(\"Test set loss: {:.3f}\".format(np.mean(np.array(loss_values))))\n",
        "    \n",
        "    return train_loss_values, val_loss_values"
      ],
      "execution_count": 0,
      "outputs": []
    },
    {
      "cell_type": "code",
      "metadata": {
        "id": "7OxM_DQFY9Et",
        "colab_type": "code",
        "colab": {}
      },
      "source": [
        "K = 6\n",
        "BATCH_SIZE = 256\n",
        "EPOCHS_CNT = 25"
      ],
      "execution_count": 0,
      "outputs": []
    },
    {
      "cell_type": "code",
      "metadata": {
        "id": "5DIVm6ck_tsL",
        "colab_type": "code",
        "colab": {}
      },
      "source": [
        "model = Model(K)\n",
        "model = model.float()\n",
        "model = model.to(DEVICE)"
      ],
      "execution_count": 0,
      "outputs": []
    },
    {
      "cell_type": "code",
      "metadata": {
        "id": "clIIYD1WRX0Z",
        "colab_type": "code",
        "colab": {}
      },
      "source": [
        "loss_function = Loss\n",
        "optimizer = optim.Adam(model.parameters(), lr=1e-2)"
      ],
      "execution_count": 0,
      "outputs": []
    },
    {
      "cell_type": "code",
      "metadata": {
        "id": "yipdB0hwRhNX",
        "colab_type": "code",
        "colab": {
          "base_uri": "https://localhost:8080/",
          "height": 459
        },
        "outputId": "18350b08-5e48-42f5-e563-caefd456e5eb"
      },
      "source": [
        "train_loss_values, val_loss_values =\\\n",
        "    train(model, train_loader, val_loader, test_loader, optimizer, loss_function, EPOCHS_CNT, BATCH_SIZE)"
      ],
      "execution_count": 291,
      "outputs": [
        {
          "output_type": "display_data",
          "data": {
            "application/vnd.jupyter.widget-view+json": {
              "model_id": "2c6ef8c2885b4d84895b097e9a6b9130",
              "version_minor": 0,
              "version_major": 2
            },
            "text/plain": [
              "HBox(children=(IntProgress(value=0, description='Epoch', max=25, style=ProgressStyle(description_width='initia…"
            ]
          },
          "metadata": {
            "tags": []
          }
        },
        {
          "output_type": "stream",
          "text": [
            "Epoch 0 done\n",
            "Epoch 1 done\n",
            "Epoch 2 done\n",
            "Epoch 3 done\n",
            "Epoch 4 done\n",
            "Epoch 5 done\n",
            "Epoch 6 done\n",
            "Epoch 7 done\n",
            "Epoch 8 done\n",
            "Epoch 9 done\n",
            "Epoch 10 done\n",
            "Epoch 11 done\n",
            "Epoch 12 done\n",
            "Epoch 13 done\n",
            "Epoch 14 done\n",
            "Epoch 15 done\n",
            "Epoch 16 done\n",
            "Epoch 17 done\n",
            "Epoch 18 done\n",
            "Epoch 19 done\n",
            "Epoch 20 done\n",
            "Epoch 21 done\n",
            "Epoch 22 done\n",
            "Epoch 23 done\n",
            "Epoch 24 done\n",
            "Test set loss: 0.679\n"
          ],
          "name": "stdout"
        }
      ]
    },
    {
      "cell_type": "code",
      "metadata": {
        "id": "-5m-uo_dRhXA",
        "colab_type": "code",
        "colab": {}
      },
      "source": [
        "def plot_loss_values(train_loss_values, val_loss_values):\n",
        "    plt.plot(np.arange(len(train_loss_values)), train_loss_values, color='blue', label='train')\n",
        "    plt.plot(np.arange(0, len(train_loss_values), len(train_loss_values) / EPOCHS_CNT), val_loss_values, color='red', label='validation')\n",
        "    plt.legend()\n",
        "    plt.title(\"Loss values\")\n",
        "    plt.xlabel(\"iteration\")\n",
        "    plt.ylabel(\"loss\")\n",
        "    plt.show()"
      ],
      "execution_count": 0,
      "outputs": []
    },
    {
      "cell_type": "code",
      "metadata": {
        "id": "MfTPSdxbTQmZ",
        "colab_type": "code",
        "colab": {
          "base_uri": "https://localhost:8080/",
          "height": 295
        },
        "outputId": "b2996c15-67cf-44f3-abf5-4e0a333de097"
      },
      "source": [
        "plot_loss_values(train_loss_values, val_loss_values)"
      ],
      "execution_count": 293,
      "outputs": [
        {
          "output_type": "display_data",
          "data": {
            "image/png": "[encoded data removed]",
            "text/plain": [
              "<Figure size 432x288 with 1 Axes>"
            ]
          },
          "metadata": {
            "tags": []
          }
        }
      ]
    },
    {
      "cell_type": "code",
      "metadata": {
        "id": "57cWoIFhTQqw",
        "colab_type": "code",
        "colab": {
          "base_uri": "https://localhost:8080/",
          "height": 282
        },
        "outputId": "130a053a-8a2a-48a2-bd1a-8a4e77780fd9"
      },
      "source": [
        "low = torch.tensor([0.0]).to(DEVICE)\n",
        "high = torch.tensor([1.0]).to(DEVICE)\n",
        "z = Uniform(low, high).rsample((10000, 2))\n",
        "x1, x2 = model.sample(z)\n",
        "x1 = x1.cpu().detach().numpy()\n",
        "x2 = x2.cpu().detach().numpy()\n",
        "plt.figure()\n",
        "plt.scatter(x1, x2)"
      ],
      "execution_count": 294,
      "outputs": [
        {
          "output_type": "execute_result",
          "data": {
            "text/plain": [
              "<matplotlib.collections.PathCollection at 0x7fb8a0a5d898>"
            ]
          },
          "metadata": {
            "tags": []
          },
          "execution_count": 294
        },
        {
          "output_type": "display_data",
          "data": {
            "image/png": "[encoded data removed]",
            "text/plain": [
              "<Figure size 432x288 with 1 Axes>"
            ]
          },
          "metadata": {
            "tags": []
          }
        }
      ]
    },
    {
      "cell_type": "code",
      "metadata": {
        "id": "4nmVPUKuTQuK",
        "colab_type": "code",
        "colab": {
          "base_uri": "https://localhost:8080/",
          "height": 285
        },
        "outputId": "b35e616c-3bab-4242-e935-3cbcda28b37e"
      },
      "source": [
        "d = np.linspace(-4, 4, 100)\n",
        "samples = np.array(np.meshgrid(d, d)).T.reshape([-1, 2])\n",
        "samples = torch.from_numpy(samples).float().to(DEVICE)\n",
        "pdf = model(samples).cpu().detach().numpy().reshape(100, 100)\n",
        "plt.imshow(np.rot90(pdf, 1))"
      ],
      "execution_count": 295,
      "outputs": [
        {
          "output_type": "execute_result",
          "data": {
            "text/plain": [
              "<matplotlib.image.AxesImage at 0x7fb8a4c2e550>"
            ]
          },
          "metadata": {
            "tags": []
          },
          "execution_count": 295
        },
        {
          "output_type": "display_data",
          "data": {
            "image/png": "[encoded data removed]",
            "text/plain": [
              "<Figure size 432x288 with 1 Axes>"
            ]
          },
          "metadata": {
            "tags": []
          }
        }
      ]
    },
    {
      "cell_type": "code",
      "metadata": {
        "id": "J7ZVG7_Tf2q7",
        "colab_type": "code",
        "colab": {
          "base_uri": "https://localhost:8080/",
          "height": 282
        },
        "outputId": "b32e0425-e677-4a77-cba2-b2e4edf8d7ca"
      },
      "source": [
        "x = torch.from_numpy(X).float().to(DEVICE)\n",
        "z1, z2 = model.latent(x)\n",
        "z1 = z1.cpu().detach().numpy()\n",
        "z2 = z2.cpu().detach().numpy()\n",
        "plt.figure()\n",
        "plt.scatter(z1[y == 0], z2[y == 0], label='0')\n",
        "plt.scatter(z1[y == 1], z2[y == 1], label='1')\n",
        "plt.scatter(z1[y == 2], z2[y == 2], label='2')\n",
        "plt.legend()"
      ],
      "execution_count": 297,
      "outputs": [
        {
          "output_type": "execute_result",
          "data": {
            "text/plain": [
              "<matplotlib.legend.Legend at 0x7fb8a054cf28>"
            ]
          },
          "metadata": {
            "tags": []
          },
          "execution_count": 297
        },
        {
          "output_type": "display_data",
          "data": {
            "image/png": "[encoded data removed]",
            "text/plain": [
              "<Figure size 432x288 with 1 Axes>"
            ]
          },
          "metadata": {
            "tags": []
          }
        }
      ]
    },
    {
      "cell_type": "code",
      "metadata": {
        "id": "KsckKhK5jZBJ",
        "colab_type": "code",
        "colab": {}
      },
      "source": [
        ""
      ],
      "execution_count": 0,
      "outputs": []
    }
  ]
}