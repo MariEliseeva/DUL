{
  "nbformat": 4,
  "nbformat_minor": 0,
  "metadata": {
    "colab": {
      "name": "Untitled2.ipynb",
      "provenance": []
    },
    "kernelspec": {
      "name": "python3",
      "display_name": "Python 3"
    }
  },
  "cells": [
    {
      "cell_type": "code",
      "metadata": {
        "id": "gictn9zjPJpV",
        "colab_type": "code",
        "colab": {}
      },
      "source": [
        "import random\n",
        "import os\n",
        "import torch\n",
        "import numpy as np\n",
        "import pickle\n",
        "import matplotlib.pyplot as plt\n",
        "from torch.utils.data import DataLoader\n",
        "from torch.distributions import Normal, MultivariateNormal, Uniform\n",
        "import torch.nn as nn\n",
        "from tqdm import tqdm\n",
        "import torch.nn.functional as F"
      ],
      "execution_count": 0,
      "outputs": []
    },
    {
      "cell_type": "code",
      "metadata": {
        "id": "319_omqERWzA",
        "colab_type": "code",
        "outputId": "15462e0c-f052-4718-ef04-3db151579f6b",
        "colab": {
          "base_uri": "https://localhost:8080/",
          "height": 34
        }
      },
      "source": [
        "torch.manual_seed(0)\n",
        "DEVICE = torch.device('cuda' if torch.cuda.is_available() else 'cpu')\n",
        "print(DEVICE)"
      ],
      "execution_count": 8,
      "outputs": [
        {
          "output_type": "stream",
          "text": [
            "cpu\n"
          ],
          "name": "stdout"
        }
      ]
    },
    {
      "cell_type": "code",
      "metadata": {
        "id": "88bC3xP8RVwO",
        "colab_type": "code",
        "colab": {}
      },
      "source": [
        "with open('hw2_q2.pkl', 'rb') as file:\n",
        "    DATA = pickle.load(file)\n",
        "DATA['train'] = torch.FloatTensor(DATA['train']).permute(0, 3, 1, 2)\n",
        "DATA['test'] = torch.FloatTensor(DATA['test']).permute(0, 3, 1, 2)"
      ],
      "execution_count": 0,
      "outputs": []
    },
    {
      "cell_type": "code",
      "metadata": {
        "id": "m_PHTMs9RV-p",
        "colab_type": "code",
        "colab": {}
      },
      "source": [
        "class Resnet(nn.Module):\n",
        "    def __init__(self, ch_in, n_filters=256, n_blocks=8):\n",
        "        super(Resnet,self).__init__()\n",
        "        ch_out = ch_in * 2\n",
        "        self.n_blocks = n_blocks\n",
        "        self.conv1 = nn.Conv2d(ch_in, n_filters, kernel_size=(3, 3), stride=(1, 1), padding=2)\n",
        "        self.batch_norm1 = nn.BatchNorm2d(n_filters)\n",
        "        self.conv2 = nn.Conv2d(n_filters, ch_out, kernel_size=(3, 3), stride=(1, 1))\n",
        "        self.batch_norm2 = nn.BatchNorm2d(ch_out)\n",
        "\n",
        "        def get_ht_model():\n",
        "          return nn.Sequential(\n",
        "              nn.Conv2d(n_filters, n_filters, kernel_size=(1, 1), stride=(1, 1), padding=0),\n",
        "              nn.BatchNorm2d(n_filters),\n",
        "              nn.ReLU(),\n",
        "              nn.Conv2d(n_filters, n_filters, kernel_size=(3, 3), stride=(1, 1), padding=1),\n",
        "              nn.BatchNorm2d(n_filters))\n",
        "        def get_h_model():\n",
        "          return nn.Sequential(\n",
        "              nn.ReLU(),\n",
        "              nn.Conv2d(n_filters, n_filters, kernel_size=(1,1), stride=(1, 1), padding=0),\n",
        "              nn.BatchNorm2d(n_filters))\n",
        "        self._h_model = torch.nn.ModuleList([get_ht_model() for _ in range(n_blocks)])\n",
        "        self.h_model = torch.nn.ModuleList([get_h_model() for _ in range(n_blocks)])\n",
        "    \n",
        "    def forward(self, x):\n",
        "        h = self.conv1(x)\n",
        "        h = self.batch_norm1(h)\n",
        "        for i in range(self.n_blocks):\n",
        "            _h = self._h_model[i](h)\n",
        "            h = self.h_model[i](_h)\n",
        "            h = (h + _h)\n",
        "        h = F.relu(h)\n",
        "        x = self.conv2(h)\n",
        "        x = self.batch_norm2(x)\n",
        "        return x"
      ],
      "execution_count": 0,
      "outputs": []
    },
    {
      "cell_type": "code",
      "metadata": {
        "id": "Y0LbfaQaRWBN",
        "colab_type": "code",
        "colab": {}
      },
      "source": [
        "class AffineCoupling(nn.Module):\n",
        "    def __init__(self, ch_in, sign):\n",
        "        super(AffineCoupling, self).__init__()\n",
        "        self.resnet = Resnet(ch_in)\n",
        "        self.sign = sign\n",
        "    \n",
        "    def forward(self, x, masks):\n",
        "        (x1, x2) = x\n",
        "        y1 = x1\n",
        "        log_s, t = torch.chunk(self.resnet(x1), 2, dim=1)\n",
        "        y2 = torch.exp(log_s) * (x2 + t * masks[1])\n",
        "        log_det = log_s.view(x1.shape[0], -1).sum(dim=1) * self.sign\n",
        "        return ((y1, y2), log_det)\n",
        "\n",
        "    def reverse(self, y, mask):\n",
        "        (y1, y2) = y\n",
        "        x1 = y1\n",
        "        log_s, t = torch.chunk(self.resnet(x1), 2, dim=1)\n",
        "        x2 = y2 * torch.exp(-log_s) - t * (1 - mask[1])\n",
        "        return (x1, x2)"
      ],
      "execution_count": 0,
      "outputs": []
    },
    {
      "cell_type": "code",
      "metadata": {
        "id": "4o6RU0I7yZW5",
        "colab_type": "code",
        "colab": {}
      },
      "source": [
        "def train(model, batch_size, epochs_cnt, train_data=DATA['train'], test_data=DATA['test'], lr=5e-5):\n",
        "    dim_factor = torch.FloatTensor([3 * 32 * 32]).to(DEVICE)\n",
        "    log_factor = torch.log(torch.Tensor([2])).to(DEVICE)\n",
        "        \n",
        "    def loss_func(log_prob):\n",
        "        return -torch.mean(log_prob) / dim_factor / log_factor\n",
        "    \n",
        "    train_iter = DataLoader(train_data, batch_size=batch_size, shuffle=True)\n",
        "    val_iter = DataLoader(test_data, batch_size=batch_size, shuffle=False)\n",
        "    optimizer = torch.optim.Adam(MODEL.parameters(),lr=lr, weight_decay=0.0001)\n",
        "\n",
        "    losses, val_losses = [], []\n",
        "    for epoch in range(epochs_cnt):\n",
        "        loss = 0\n",
        "        tmp_losses = []\n",
        "        model.train()\n",
        "        total_train_loss = 0\n",
        "        for batch in tqdm(train_iter):\n",
        "            batch = batch.to(DEVICE)\n",
        "            loss = loss_func(model.log_prob(batch))\n",
        "            loss.backward()\n",
        "            optimizer.step()\n",
        "            optimizer.zero_grad()\n",
        "            tmp_losses.append(loss.data.cpu().numpy())\n",
        "        losses.append(np.mean(tmp_losses))\n",
        "        \n",
        "        model.eval()\n",
        "        with torch.no_grad():\n",
        "            tmp_val_losses = []\n",
        "            for item in val_iter:\n",
        "                batch = batch.to(DEVICE)\n",
        "                val_loss = loss_func(model.log_prob(batch))\n",
        "                tmp_val_losses.append(val_loss.data.cpu().numpy())\n",
        "            val_losses.append(np.mean(tmp_val_losses))\n",
        "    return losses, val_losses"
      ],
      "execution_count": 0,
      "outputs": []
    },
    {
      "cell_type": "code",
      "metadata": {
        "id": "vWvsdnWjyZdA",
        "colab_type": "code",
        "colab": {}
      },
      "source": [
        "batch_size = 16\n",
        "epoch_cnt = 4"
      ],
      "execution_count": 0,
      "outputs": []
    },
    {
      "cell_type": "code",
      "metadata": {
        "id": "CbNrhix7yZgg",
        "colab_type": "code",
        "colab": {}
      },
      "source": [
        "model = Model(3).to(DEVICE)"
      ],
      "execution_count": 0,
      "outputs": []
    },
    {
      "cell_type": "code",
      "metadata": {
        "id": "w0HKk7sp9q1p",
        "colab_type": "code",
        "colab": {}
      },
      "source": [
        "train_losses, validate_losses = train(model, batch_size, epoch_cnt)\n",
        "plot_losses(train_losses, validate_losses)"
      ],
      "execution_count": 0,
      "outputs": []
    }
  ]
}